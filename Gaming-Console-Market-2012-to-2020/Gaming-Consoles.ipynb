{
 "cells": [
  {
   "cell_type": "code",
   "execution_count": 1,
   "metadata": {},
   "outputs": [],
   "source": [
    "import pandas as pd\n",
    "import numpy as np\n",
    "import glob\n",
    "%matplotlib inline"
   ]
  },
  {
   "cell_type": "code",
   "execution_count": 2,
   "metadata": {},
   "outputs": [
    {
     "data": {
      "text/html": [
       "<div>\n",
       "<style scoped>\n",
       "    .dataframe tbody tr th:only-of-type {\n",
       "        vertical-align: middle;\n",
       "    }\n",
       "\n",
       "    .dataframe tbody tr th {\n",
       "        vertical-align: top;\n",
       "    }\n",
       "\n",
       "    .dataframe thead th {\n",
       "        text-align: right;\n",
       "    }\n",
       "</style>\n",
       "<table border=\"1\" class=\"dataframe\">\n",
       "  <thead>\n",
       "    <tr style=\"text-align: right;\">\n",
       "      <th></th>\n",
       "      <th>Date</th>\n",
       "      <th>Playstation</th>\n",
       "      <th>Nintendo</th>\n",
       "      <th>Other</th>\n",
       "      <th>Xbox</th>\n",
       "    </tr>\n",
       "  </thead>\n",
       "  <tbody>\n",
       "    <tr>\n",
       "      <th>0</th>\n",
       "      <td>2012-08</td>\n",
       "      <td>89.83</td>\n",
       "      <td>10.17</td>\n",
       "      <td>0</td>\n",
       "      <td>NaN</td>\n",
       "    </tr>\n",
       "    <tr>\n",
       "      <th>1</th>\n",
       "      <td>2012-09</td>\n",
       "      <td>90.57</td>\n",
       "      <td>9.43</td>\n",
       "      <td>0</td>\n",
       "      <td>NaN</td>\n",
       "    </tr>\n",
       "    <tr>\n",
       "      <th>2</th>\n",
       "      <td>2012-10</td>\n",
       "      <td>91.69</td>\n",
       "      <td>8.31</td>\n",
       "      <td>0</td>\n",
       "      <td>NaN</td>\n",
       "    </tr>\n",
       "    <tr>\n",
       "      <th>3</th>\n",
       "      <td>2012-11</td>\n",
       "      <td>91.27</td>\n",
       "      <td>8.73</td>\n",
       "      <td>0</td>\n",
       "      <td>NaN</td>\n",
       "    </tr>\n",
       "    <tr>\n",
       "      <th>4</th>\n",
       "      <td>2012-12</td>\n",
       "      <td>90.27</td>\n",
       "      <td>9.73</td>\n",
       "      <td>0</td>\n",
       "      <td>NaN</td>\n",
       "    </tr>\n",
       "  </tbody>\n",
       "</table>\n",
       "</div>"
      ],
      "text/plain": [
       "      Date  Playstation  Nintendo  Other  Xbox\n",
       "0  2012-08        89.83     10.17      0   NaN\n",
       "1  2012-09        90.57      9.43      0   NaN\n",
       "2  2012-10        91.69      8.31      0   NaN\n",
       "3  2012-11        91.27      8.73      0   NaN\n",
       "4  2012-12        90.27      9.73      0   NaN"
      ]
     },
     "execution_count": 2,
     "metadata": {},
     "output_type": "execute_result"
    }
   ],
   "source": [
    "#Import all CSV formated time series data set in to one data frame 'df_gaming'\n",
    "path = r'C:\\Users\\Chinthaka Asiri\\Desktop\\Python Jupyter\\Jupyter 1\\Project 9'\n",
    "all_files = glob.glob(path + \"/*.csv\")\n",
    "\n",
    "li = []\n",
    "\n",
    "for filename in all_files:\n",
    "    df1 = pd.read_csv(filename, index_col=None, header=0)\n",
    "    li.append(df1)\n",
    "\n",
    "df_gaming = pd.concat(li, axis=0, ignore_index=True)\n",
    "df_gaming.head()"
   ]
  },
  {
   "cell_type": "code",
   "execution_count": 16,
   "metadata": {},
   "outputs": [
    {
     "data": {
      "text/html": [
       "<div>\n",
       "<style scoped>\n",
       "    .dataframe tbody tr th:only-of-type {\n",
       "        vertical-align: middle;\n",
       "    }\n",
       "\n",
       "    .dataframe tbody tr th {\n",
       "        vertical-align: top;\n",
       "    }\n",
       "\n",
       "    .dataframe thead th {\n",
       "        text-align: right;\n",
       "    }\n",
       "</style>\n",
       "<table border=\"1\" class=\"dataframe\">\n",
       "  <thead>\n",
       "    <tr style=\"text-align: right;\">\n",
       "      <th></th>\n",
       "      <th>Date</th>\n",
       "      <th>Playstation</th>\n",
       "      <th>Nintendo</th>\n",
       "      <th>Other</th>\n",
       "      <th>Xbox</th>\n",
       "    </tr>\n",
       "  </thead>\n",
       "  <tbody>\n",
       "    <tr>\n",
       "      <th>0</th>\n",
       "      <td>2012-08</td>\n",
       "      <td>89.83</td>\n",
       "      <td>10.17</td>\n",
       "      <td>0</td>\n",
       "      <td>0.0</td>\n",
       "    </tr>\n",
       "    <tr>\n",
       "      <th>1</th>\n",
       "      <td>2012-09</td>\n",
       "      <td>90.57</td>\n",
       "      <td>9.43</td>\n",
       "      <td>0</td>\n",
       "      <td>0.0</td>\n",
       "    </tr>\n",
       "    <tr>\n",
       "      <th>2</th>\n",
       "      <td>2012-10</td>\n",
       "      <td>91.69</td>\n",
       "      <td>8.31</td>\n",
       "      <td>0</td>\n",
       "      <td>0.0</td>\n",
       "    </tr>\n",
       "    <tr>\n",
       "      <th>3</th>\n",
       "      <td>2012-11</td>\n",
       "      <td>91.27</td>\n",
       "      <td>8.73</td>\n",
       "      <td>0</td>\n",
       "      <td>0.0</td>\n",
       "    </tr>\n",
       "    <tr>\n",
       "      <th>4</th>\n",
       "      <td>2012-12</td>\n",
       "      <td>90.27</td>\n",
       "      <td>9.73</td>\n",
       "      <td>0</td>\n",
       "      <td>0.0</td>\n",
       "    </tr>\n",
       "  </tbody>\n",
       "</table>\n",
       "</div>"
      ],
      "text/plain": [
       "      Date  Playstation  Nintendo  Other  Xbox\n",
       "0  2012-08        89.83     10.17      0   0.0\n",
       "1  2012-09        90.57      9.43      0   0.0\n",
       "2  2012-10        91.69      8.31      0   0.0\n",
       "3  2012-11        91.27      8.73      0   0.0\n",
       "4  2012-12        90.27      9.73      0   0.0"
      ]
     },
     "execution_count": 16,
     "metadata": {},
     "output_type": "execute_result"
    }
   ],
   "source": [
    "#Keep the original and work with a copy of data.\n",
    "gamingc = df_gaming.copy()\n",
    "gamingc.fillna(0,inplace=True) #Fill NAN with 0 for further analysis purposes\n",
    "gamingc.head()"
   ]
  },
  {
   "cell_type": "code",
   "execution_count": 17,
   "metadata": {},
   "outputs": [
    {
     "data": {
      "text/plain": [
       "(109, 5)"
      ]
     },
     "execution_count": 17,
     "metadata": {},
     "output_type": "execute_result"
    }
   ],
   "source": [
    "#Understand the dataframe 'gaming'\n",
    "gamingc.shape"
   ]
  },
  {
   "cell_type": "code",
   "execution_count": 18,
   "metadata": {},
   "outputs": [
    {
     "data": {
      "text/plain": [
       "3"
      ]
     },
     "execution_count": 18,
     "metadata": {},
     "output_type": "execute_result"
    }
   ],
   "source": [
    "#Identify duplicated Dates in 'Date' column\n",
    "gamingc.Date.duplicated().sum()"
   ]
  },
  {
   "cell_type": "code",
   "execution_count": 19,
   "metadata": {},
   "outputs": [
    {
     "data": {
      "text/plain": [
       "(106, 5)"
      ]
     },
     "execution_count": 19,
     "metadata": {},
     "output_type": "execute_result"
    }
   ],
   "source": [
    "#Remove all 3 duplicated columns\n",
    "gamingc.drop_duplicates(subset='Date', inplace=True)\n",
    "gamingc.shape #If the code is true, we should get (109 - 3 = 106) 106,5 as answer"
   ]
  },
  {
   "cell_type": "code",
   "execution_count": 20,
   "metadata": {},
   "outputs": [
    {
     "data": {
      "text/html": [
       "<div>\n",
       "<style scoped>\n",
       "    .dataframe tbody tr th:only-of-type {\n",
       "        vertical-align: middle;\n",
       "    }\n",
       "\n",
       "    .dataframe tbody tr th {\n",
       "        vertical-align: top;\n",
       "    }\n",
       "\n",
       "    .dataframe thead th {\n",
       "        text-align: right;\n",
       "    }\n",
       "</style>\n",
       "<table border=\"1\" class=\"dataframe\">\n",
       "  <thead>\n",
       "    <tr style=\"text-align: right;\">\n",
       "      <th></th>\n",
       "      <th>Date</th>\n",
       "      <th>Playstation</th>\n",
       "      <th>Nintendo</th>\n",
       "      <th>Other</th>\n",
       "      <th>Xbox</th>\n",
       "      <th>Sum</th>\n",
       "    </tr>\n",
       "  </thead>\n",
       "  <tbody>\n",
       "    <tr>\n",
       "      <th>0</th>\n",
       "      <td>2012-08</td>\n",
       "      <td>89.83</td>\n",
       "      <td>10.17</td>\n",
       "      <td>0</td>\n",
       "      <td>0.0</td>\n",
       "      <td>100.0</td>\n",
       "    </tr>\n",
       "    <tr>\n",
       "      <th>1</th>\n",
       "      <td>2012-09</td>\n",
       "      <td>90.57</td>\n",
       "      <td>9.43</td>\n",
       "      <td>0</td>\n",
       "      <td>0.0</td>\n",
       "      <td>100.0</td>\n",
       "    </tr>\n",
       "    <tr>\n",
       "      <th>2</th>\n",
       "      <td>2012-10</td>\n",
       "      <td>91.69</td>\n",
       "      <td>8.31</td>\n",
       "      <td>0</td>\n",
       "      <td>0.0</td>\n",
       "      <td>100.0</td>\n",
       "    </tr>\n",
       "    <tr>\n",
       "      <th>3</th>\n",
       "      <td>2012-11</td>\n",
       "      <td>91.27</td>\n",
       "      <td>8.73</td>\n",
       "      <td>0</td>\n",
       "      <td>0.0</td>\n",
       "      <td>100.0</td>\n",
       "    </tr>\n",
       "    <tr>\n",
       "      <th>4</th>\n",
       "      <td>2012-12</td>\n",
       "      <td>90.27</td>\n",
       "      <td>9.73</td>\n",
       "      <td>0</td>\n",
       "      <td>0.0</td>\n",
       "      <td>100.0</td>\n",
       "    </tr>\n",
       "  </tbody>\n",
       "</table>\n",
       "</div>"
      ],
      "text/plain": [
       "      Date  Playstation  Nintendo  Other  Xbox    Sum\n",
       "0  2012-08        89.83     10.17      0   0.0  100.0\n",
       "1  2012-09        90.57      9.43      0   0.0  100.0\n",
       "2  2012-10        91.69      8.31      0   0.0  100.0\n",
       "3  2012-11        91.27      8.73      0   0.0  100.0\n",
       "4  2012-12        90.27      9.73      0   0.0  100.0"
      ]
     },
     "execution_count": 20,
     "metadata": {},
     "output_type": "execute_result"
    }
   ],
   "source": [
    "#Create Sum column and later it can be used to remove below 100% values (Below 95% will consider here)\n",
    "gamingc['Sum']=gamingc.sum(axis=1)\n",
    "gamingc.head()"
   ]
  },
  {
   "cell_type": "code",
   "execution_count": 21,
   "metadata": {},
   "outputs": [
    {
     "data": {
      "text/plain": [
       "True     99\n",
       "False     7\n",
       "Name: Keep the Row, dtype: int64"
      ]
     },
     "execution_count": 21,
     "metadata": {},
     "output_type": "execute_result"
    }
   ],
   "source": [
    "#Tag rows which consist below 95% of sum with boolian\n",
    "gamingc.loc[gamingc['Sum'] > 95 , 'Keep the Row'] = True\n",
    "gamingc.loc[gamingc['Sum'] <=95 , 'Keep the Row'] = False\n",
    "#Check how many rows has True and how many has False tagged\n",
    "gamingc['Keep the Row'].value_counts()"
   ]
  },
  {
   "cell_type": "code",
   "execution_count": 23,
   "metadata": {},
   "outputs": [
    {
     "data": {
      "text/html": [
       "<div>\n",
       "<style scoped>\n",
       "    .dataframe tbody tr th:only-of-type {\n",
       "        vertical-align: middle;\n",
       "    }\n",
       "\n",
       "    .dataframe tbody tr th {\n",
       "        vertical-align: top;\n",
       "    }\n",
       "\n",
       "    .dataframe thead th {\n",
       "        text-align: right;\n",
       "    }\n",
       "</style>\n",
       "<table border=\"1\" class=\"dataframe\">\n",
       "  <thead>\n",
       "    <tr style=\"text-align: right;\">\n",
       "      <th></th>\n",
       "      <th>Date</th>\n",
       "      <th>Playstation</th>\n",
       "      <th>Nintendo</th>\n",
       "      <th>Other</th>\n",
       "      <th>Xbox</th>\n",
       "      <th>Sum</th>\n",
       "      <th>Keep the Row</th>\n",
       "    </tr>\n",
       "  </thead>\n",
       "  <tbody>\n",
       "    <tr>\n",
       "      <th>0</th>\n",
       "      <td>2012-08</td>\n",
       "      <td>89.83</td>\n",
       "      <td>10.17</td>\n",
       "      <td>0</td>\n",
       "      <td>0.0</td>\n",
       "      <td>100.0</td>\n",
       "      <td>True</td>\n",
       "    </tr>\n",
       "    <tr>\n",
       "      <th>1</th>\n",
       "      <td>2012-09</td>\n",
       "      <td>90.57</td>\n",
       "      <td>9.43</td>\n",
       "      <td>0</td>\n",
       "      <td>0.0</td>\n",
       "      <td>100.0</td>\n",
       "      <td>True</td>\n",
       "    </tr>\n",
       "    <tr>\n",
       "      <th>2</th>\n",
       "      <td>2012-10</td>\n",
       "      <td>91.69</td>\n",
       "      <td>8.31</td>\n",
       "      <td>0</td>\n",
       "      <td>0.0</td>\n",
       "      <td>100.0</td>\n",
       "      <td>True</td>\n",
       "    </tr>\n",
       "    <tr>\n",
       "      <th>3</th>\n",
       "      <td>2012-11</td>\n",
       "      <td>91.27</td>\n",
       "      <td>8.73</td>\n",
       "      <td>0</td>\n",
       "      <td>0.0</td>\n",
       "      <td>100.0</td>\n",
       "      <td>True</td>\n",
       "    </tr>\n",
       "    <tr>\n",
       "      <th>4</th>\n",
       "      <td>2012-12</td>\n",
       "      <td>90.27</td>\n",
       "      <td>9.73</td>\n",
       "      <td>0</td>\n",
       "      <td>0.0</td>\n",
       "      <td>100.0</td>\n",
       "      <td>True</td>\n",
       "    </tr>\n",
       "  </tbody>\n",
       "</table>\n",
       "</div>"
      ],
      "text/plain": [
       "      Date  Playstation  Nintendo  Other  Xbox    Sum Keep the Row\n",
       "0  2012-08        89.83     10.17      0   0.0  100.0         True\n",
       "1  2012-09        90.57      9.43      0   0.0  100.0         True\n",
       "2  2012-10        91.69      8.31      0   0.0  100.0         True\n",
       "3  2012-11        91.27      8.73      0   0.0  100.0         True\n",
       "4  2012-12        90.27      9.73      0   0.0  100.0         True"
      ]
     },
     "execution_count": 23,
     "metadata": {},
     "output_type": "execute_result"
    }
   ],
   "source": [
    "gaming = gamingc.copy() #Create a copy of DF to proceed with\n",
    "gaming.head()"
   ]
  },
  {
   "cell_type": "code",
   "execution_count": 24,
   "metadata": {},
   "outputs": [
    {
     "data": {
      "text/plain": [
       "(99, 7)"
      ]
     },
     "execution_count": 24,
     "metadata": {},
     "output_type": "execute_result"
    }
   ],
   "source": [
    "#Since there are three rows containing lessthan 10% of total, we have to remove them\n",
    "filter_false = gaming['Keep the Row'] == False\n",
    "gaming.drop(index=gaming[filter_false].index, inplace=True)\n",
    "gaming.shape #Check wether 7 rows are missing and if yes, it should be 99,7"
   ]
  },
  {
   "cell_type": "code",
   "execution_count": 26,
   "metadata": {},
   "outputs": [
    {
     "data": {
      "text/plain": [
       "True    99\n",
       "Name: Keep the Row, dtype: int64"
      ]
     },
     "execution_count": 26,
     "metadata": {},
     "output_type": "execute_result"
    }
   ],
   "source": [
    "#Double check whether False results have been removed or not\n",
    "gaming['Keep the Row'].value_counts()"
   ]
  },
  {
   "cell_type": "code",
   "execution_count": 27,
   "metadata": {},
   "outputs": [
    {
     "data": {
      "text/html": [
       "<div>\n",
       "<style scoped>\n",
       "    .dataframe tbody tr th:only-of-type {\n",
       "        vertical-align: middle;\n",
       "    }\n",
       "\n",
       "    .dataframe tbody tr th {\n",
       "        vertical-align: top;\n",
       "    }\n",
       "\n",
       "    .dataframe thead th {\n",
       "        text-align: right;\n",
       "    }\n",
       "</style>\n",
       "<table border=\"1\" class=\"dataframe\">\n",
       "  <thead>\n",
       "    <tr style=\"text-align: right;\">\n",
       "      <th></th>\n",
       "      <th>Date</th>\n",
       "      <th>Playstation</th>\n",
       "      <th>Nintendo</th>\n",
       "      <th>Other</th>\n",
       "      <th>Xbox</th>\n",
       "      <th>Sum</th>\n",
       "      <th>Keep the Row</th>\n",
       "    </tr>\n",
       "  </thead>\n",
       "  <tbody>\n",
       "    <tr>\n",
       "      <th>0</th>\n",
       "      <td>2012-08</td>\n",
       "      <td>89.83</td>\n",
       "      <td>10.17</td>\n",
       "      <td>0</td>\n",
       "      <td>0.0</td>\n",
       "      <td>100.0</td>\n",
       "      <td>True</td>\n",
       "    </tr>\n",
       "    <tr>\n",
       "      <th>1</th>\n",
       "      <td>2012-09</td>\n",
       "      <td>90.57</td>\n",
       "      <td>9.43</td>\n",
       "      <td>0</td>\n",
       "      <td>0.0</td>\n",
       "      <td>100.0</td>\n",
       "      <td>True</td>\n",
       "    </tr>\n",
       "    <tr>\n",
       "      <th>2</th>\n",
       "      <td>2012-10</td>\n",
       "      <td>91.69</td>\n",
       "      <td>8.31</td>\n",
       "      <td>0</td>\n",
       "      <td>0.0</td>\n",
       "      <td>100.0</td>\n",
       "      <td>True</td>\n",
       "    </tr>\n",
       "    <tr>\n",
       "      <th>3</th>\n",
       "      <td>2012-11</td>\n",
       "      <td>91.27</td>\n",
       "      <td>8.73</td>\n",
       "      <td>0</td>\n",
       "      <td>0.0</td>\n",
       "      <td>100.0</td>\n",
       "      <td>True</td>\n",
       "    </tr>\n",
       "    <tr>\n",
       "      <th>4</th>\n",
       "      <td>2012-12</td>\n",
       "      <td>90.27</td>\n",
       "      <td>9.73</td>\n",
       "      <td>0</td>\n",
       "      <td>0.0</td>\n",
       "      <td>100.0</td>\n",
       "      <td>True</td>\n",
       "    </tr>\n",
       "  </tbody>\n",
       "</table>\n",
       "</div>"
      ],
      "text/plain": [
       "      Date  Playstation  Nintendo  Other  Xbox    Sum Keep the Row\n",
       "0  2012-08        89.83     10.17      0   0.0  100.0         True\n",
       "1  2012-09        90.57      9.43      0   0.0  100.0         True\n",
       "2  2012-10        91.69      8.31      0   0.0  100.0         True\n",
       "3  2012-11        91.27      8.73      0   0.0  100.0         True\n",
       "4  2012-12        90.27      9.73      0   0.0  100.0         True"
      ]
     },
     "execution_count": 27,
     "metadata": {},
     "output_type": "execute_result"
    }
   ],
   "source": [
    "#Save the cleaned dataframe as a CSV for further references\n",
    "gaming.to_csv('Filtered-Data-1.csv',index=0)\n",
    "game_c = gaming.copy() #Create a copy of a 'gaming' dataframe\n",
    "game_c.head()"
   ]
  },
  {
   "cell_type": "code",
   "execution_count": 28,
   "metadata": {},
   "outputs": [
    {
     "data": {
      "text/html": [
       "<div>\n",
       "<style scoped>\n",
       "    .dataframe tbody tr th:only-of-type {\n",
       "        vertical-align: middle;\n",
       "    }\n",
       "\n",
       "    .dataframe tbody tr th {\n",
       "        vertical-align: top;\n",
       "    }\n",
       "\n",
       "    .dataframe thead th {\n",
       "        text-align: right;\n",
       "    }\n",
       "</style>\n",
       "<table border=\"1\" class=\"dataframe\">\n",
       "  <thead>\n",
       "    <tr style=\"text-align: right;\">\n",
       "      <th></th>\n",
       "      <th>Date</th>\n",
       "      <th>Playstation</th>\n",
       "      <th>Nintendo</th>\n",
       "      <th>Other</th>\n",
       "      <th>Xbox</th>\n",
       "    </tr>\n",
       "  </thead>\n",
       "  <tbody>\n",
       "    <tr>\n",
       "      <th>0</th>\n",
       "      <td>2012-08</td>\n",
       "      <td>89.83</td>\n",
       "      <td>10.17</td>\n",
       "      <td>0</td>\n",
       "      <td>0.0</td>\n",
       "    </tr>\n",
       "    <tr>\n",
       "      <th>1</th>\n",
       "      <td>2012-09</td>\n",
       "      <td>90.57</td>\n",
       "      <td>9.43</td>\n",
       "      <td>0</td>\n",
       "      <td>0.0</td>\n",
       "    </tr>\n",
       "    <tr>\n",
       "      <th>2</th>\n",
       "      <td>2012-10</td>\n",
       "      <td>91.69</td>\n",
       "      <td>8.31</td>\n",
       "      <td>0</td>\n",
       "      <td>0.0</td>\n",
       "    </tr>\n",
       "    <tr>\n",
       "      <th>3</th>\n",
       "      <td>2012-11</td>\n",
       "      <td>91.27</td>\n",
       "      <td>8.73</td>\n",
       "      <td>0</td>\n",
       "      <td>0.0</td>\n",
       "    </tr>\n",
       "    <tr>\n",
       "      <th>4</th>\n",
       "      <td>2012-12</td>\n",
       "      <td>90.27</td>\n",
       "      <td>9.73</td>\n",
       "      <td>0</td>\n",
       "      <td>0.0</td>\n",
       "    </tr>\n",
       "  </tbody>\n",
       "</table>\n",
       "</div>"
      ],
      "text/plain": [
       "      Date  Playstation  Nintendo  Other  Xbox\n",
       "0  2012-08        89.83     10.17      0   0.0\n",
       "1  2012-09        90.57      9.43      0   0.0\n",
       "2  2012-10        91.69      8.31      0   0.0\n",
       "3  2012-11        91.27      8.73      0   0.0\n",
       "4  2012-12        90.27      9.73      0   0.0"
      ]
     },
     "execution_count": 28,
     "metadata": {},
     "output_type": "execute_result"
    }
   ],
   "source": [
    "#Remove 'Sum' and 'Keep the Row' columns\n",
    "game_c.drop(['Sum', 'Keep the Row'], axis=1, inplace= True)\n",
    "game_c.head()"
   ]
  },
  {
   "cell_type": "code",
   "execution_count": 29,
   "metadata": {},
   "outputs": [
    {
     "data": {
      "text/plain": [
       "(99, 5)"
      ]
     },
     "execution_count": 29,
     "metadata": {},
     "output_type": "execute_result"
    }
   ],
   "source": [
    "#Check the dataframe shape for final modifications\n",
    "game_c.shape"
   ]
  },
  {
   "cell_type": "code",
   "execution_count": 31,
   "metadata": {},
   "outputs": [
    {
     "data": {
      "text/html": [
       "<div>\n",
       "<style scoped>\n",
       "    .dataframe tbody tr th:only-of-type {\n",
       "        vertical-align: middle;\n",
       "    }\n",
       "\n",
       "    .dataframe tbody tr th {\n",
       "        vertical-align: top;\n",
       "    }\n",
       "\n",
       "    .dataframe thead th {\n",
       "        text-align: right;\n",
       "    }\n",
       "</style>\n",
       "<table border=\"1\" class=\"dataframe\">\n",
       "  <thead>\n",
       "    <tr style=\"text-align: right;\">\n",
       "      <th>Date</th>\n",
       "      <th>2012-08</th>\n",
       "      <th>2012-09</th>\n",
       "      <th>2012-10</th>\n",
       "      <th>2012-11</th>\n",
       "      <th>2012-12</th>\n",
       "      <th>2013-01</th>\n",
       "      <th>2013-02</th>\n",
       "      <th>2013-03</th>\n",
       "      <th>2013-04</th>\n",
       "      <th>2013-05</th>\n",
       "      <th>...</th>\n",
       "      <th>2020-01</th>\n",
       "      <th>2020-02</th>\n",
       "      <th>2020-03</th>\n",
       "      <th>2020-04</th>\n",
       "      <th>2020-05</th>\n",
       "      <th>2020-06</th>\n",
       "      <th>2020-07</th>\n",
       "      <th>2020-08</th>\n",
       "      <th>2020-09</th>\n",
       "      <th>2020-10</th>\n",
       "    </tr>\n",
       "  </thead>\n",
       "  <tbody>\n",
       "    <tr>\n",
       "      <th>Playstation</th>\n",
       "      <td>89.83</td>\n",
       "      <td>90.57</td>\n",
       "      <td>91.69</td>\n",
       "      <td>91.27</td>\n",
       "      <td>90.27</td>\n",
       "      <td>89.32</td>\n",
       "      <td>88.23</td>\n",
       "      <td>87.36</td>\n",
       "      <td>87.01</td>\n",
       "      <td>86.45</td>\n",
       "      <td>...</td>\n",
       "      <td>68.08</td>\n",
       "      <td>57.7</td>\n",
       "      <td>41.44</td>\n",
       "      <td>40.87</td>\n",
       "      <td>65.99</td>\n",
       "      <td>64.68</td>\n",
       "      <td>63.39</td>\n",
       "      <td>64.22</td>\n",
       "      <td>66.33</td>\n",
       "      <td>65.09</td>\n",
       "    </tr>\n",
       "    <tr>\n",
       "      <th>Nintendo</th>\n",
       "      <td>10.17</td>\n",
       "      <td>9.43</td>\n",
       "      <td>8.31</td>\n",
       "      <td>8.73</td>\n",
       "      <td>9.73</td>\n",
       "      <td>10.68</td>\n",
       "      <td>11.77</td>\n",
       "      <td>12.64</td>\n",
       "      <td>12.99</td>\n",
       "      <td>13.55</td>\n",
       "      <td>...</td>\n",
       "      <td>0.87</td>\n",
       "      <td>0.68</td>\n",
       "      <td>0.44</td>\n",
       "      <td>0.45</td>\n",
       "      <td>0.55</td>\n",
       "      <td>0.01</td>\n",
       "      <td>0.01</td>\n",
       "      <td>0.01</td>\n",
       "      <td>0.01</td>\n",
       "      <td>0</td>\n",
       "    </tr>\n",
       "    <tr>\n",
       "      <th>Other</th>\n",
       "      <td>0</td>\n",
       "      <td>0</td>\n",
       "      <td>0</td>\n",
       "      <td>0</td>\n",
       "      <td>0</td>\n",
       "      <td>0</td>\n",
       "      <td>0</td>\n",
       "      <td>0</td>\n",
       "      <td>0</td>\n",
       "      <td>0</td>\n",
       "      <td>...</td>\n",
       "      <td>0</td>\n",
       "      <td>0</td>\n",
       "      <td>0</td>\n",
       "      <td>0</td>\n",
       "      <td>0</td>\n",
       "      <td>0</td>\n",
       "      <td>0</td>\n",
       "      <td>0</td>\n",
       "      <td>0</td>\n",
       "      <td>0</td>\n",
       "    </tr>\n",
       "    <tr>\n",
       "      <th>Xbox</th>\n",
       "      <td>0</td>\n",
       "      <td>0</td>\n",
       "      <td>0</td>\n",
       "      <td>0</td>\n",
       "      <td>0</td>\n",
       "      <td>0</td>\n",
       "      <td>0</td>\n",
       "      <td>0</td>\n",
       "      <td>0</td>\n",
       "      <td>0</td>\n",
       "      <td>...</td>\n",
       "      <td>31.04</td>\n",
       "      <td>41.62</td>\n",
       "      <td>58.12</td>\n",
       "      <td>58.68</td>\n",
       "      <td>33.46</td>\n",
       "      <td>35.32</td>\n",
       "      <td>36.6</td>\n",
       "      <td>35.77</td>\n",
       "      <td>33.66</td>\n",
       "      <td>34.9</td>\n",
       "    </tr>\n",
       "  </tbody>\n",
       "</table>\n",
       "<p>4 rows × 99 columns</p>\n",
       "</div>"
      ],
      "text/plain": [
       "Date        2012-08 2012-09 2012-10 2012-11 2012-12 2013-01 2013-02 2013-03  \\\n",
       "Playstation   89.83   90.57   91.69   91.27   90.27   89.32   88.23   87.36   \n",
       "Nintendo      10.17    9.43    8.31    8.73    9.73   10.68   11.77   12.64   \n",
       "Other             0       0       0       0       0       0       0       0   \n",
       "Xbox              0       0       0       0       0       0       0       0   \n",
       "\n",
       "Date        2013-04 2013-05  ... 2020-01 2020-02 2020-03 2020-04 2020-05  \\\n",
       "Playstation   87.01   86.45  ...   68.08    57.7   41.44   40.87   65.99   \n",
       "Nintendo      12.99   13.55  ...    0.87    0.68    0.44    0.45    0.55   \n",
       "Other             0       0  ...       0       0       0       0       0   \n",
       "Xbox              0       0  ...   31.04   41.62   58.12   58.68   33.46   \n",
       "\n",
       "Date        2020-06 2020-07 2020-08 2020-09 2020-10  \n",
       "Playstation   64.68   63.39   64.22   66.33   65.09  \n",
       "Nintendo       0.01    0.01    0.01    0.01       0  \n",
       "Other             0       0       0       0       0  \n",
       "Xbox          35.32    36.6   35.77   33.66    34.9  \n",
       "\n",
       "[4 rows x 99 columns]"
      ]
     },
     "execution_count": 31,
     "metadata": {},
     "output_type": "execute_result"
    }
   ],
   "source": [
    "#Transpose the dataframe to match with the input dataset\n",
    "game_trans=game_c.T\n",
    "gc_header=game_trans.iloc[0]\n",
    "game_trans=game_trans[1:]\n",
    "game_trans.columns=gc_header\n",
    "game_trans.head()"
   ]
  },
  {
   "cell_type": "code",
   "execution_count": 32,
   "metadata": {},
   "outputs": [],
   "source": [
    "#Save final formated dataframe into CSV file for data visualization \n",
    "game_trans.to_csv('Filtered-Data-T.csv')"
   ]
  },
  {
   "cell_type": "code",
   "execution_count": null,
   "metadata": {},
   "outputs": [],
   "source": []
  }
 ],
 "metadata": {
  "kernelspec": {
   "display_name": "Python 3",
   "language": "python",
   "name": "python3"
  },
  "language_info": {
   "codemirror_mode": {
    "name": "ipython",
    "version": 3
   },
   "file_extension": ".py",
   "mimetype": "text/x-python",
   "name": "python",
   "nbconvert_exporter": "python",
   "pygments_lexer": "ipython3",
   "version": "3.7.6"
  }
 },
 "nbformat": 4,
 "nbformat_minor": 4
}
